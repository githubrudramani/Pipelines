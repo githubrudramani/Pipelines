{
 "cells": [
  {
   "cell_type": "markdown",
   "metadata": {},
   "source": [
    "# This note book for inferential statistics course taught in Udacity"
   ]
  },
  {
   "cell_type": "code",
   "execution_count": 112,
   "metadata": {},
   "outputs": [],
   "source": [
    "import pandas as pd\n",
    "import numpy as np\n",
    "from IPython.display import Image\n",
    "from IPython.core.display import HTML \n",
    "import matplotlib.pyplot as plt\n",
    "plt.rc(\"figure\", figsize=(8, 5))\n",
    "plt.rc(\"font\", size=14)"
   ]
  },
  {
   "cell_type": "markdown",
   "metadata": {},
   "source": [
    "#### Terms\n",
    "    Population mean = mu \n",
    "    Populatin sd = SD (or sigma)\n",
    "    Sample mean = x_bar \n",
    "    Sample sd (Standard erro) = SE\n",
    "\n",
    "#### Central limit theorem\n",
    "    mean of distribution of samples mean = Population mean \n",
    "    SE = SD  /sqrt(n) , where n = number of samples\n",
    "\n",
    "\n"
   ]
  },
  {
   "cell_type": "markdown",
   "metadata": {},
   "source": [
    "#### Normal Distribution\n",
    "\t95% of sample means fall within 2 * SE  (exact 1.96) distance of population mean.\n",
    "\t1.96 are CRITICAL values of Z for 95% confidence.\n",
    "\t\n",
    "\t98% of sample means fall within 2.33 * SE   distance of population mean.\n",
    "\t2.33 are CRITICAL values of Z for 98% confidence.\n",
    "\n",
    "\t99% of sample means fall within 2.576 * SE   distance of population mean.\n",
    "\t2.576 are CRITICAL values of Z for 99% confidence.\n"
   ]
  },
  {
   "cell_type": "markdown",
   "metadata": {},
   "source": [
    "#### Confidence Interval:\n",
    "\t98 % confidence interval for population mean : (x_bar - Z(=2.33) * SE,    x_bar + Z(2.33) *SE)\n",
    "\t95 % confidence interval for populatin mean  : (x_bar - Z(=1.96) * SE,    x_bar + Z(1.96) *SE)\n",
    "\n",
    "\tMargin of Error : Z *SE "
   ]
  },
  {
   "cell_type": "markdown",
   "metadata": {},
   "source": [
    "######################################################################################################################\n",
    "# z test\n",
    "If population mean and sd are known we can uswe z test\n",
    "#### Probality of getting sample mean (x_bar) from popultion mean (mu):\n",
    "    first calculate SE = SD/sqrt(n)\n",
    "\n",
    "    z score = (x_bar - mu)/ SE \n",
    "    Then use z- score table : \n",
    "        for P(Z < score)  take direct number \n",
    "        for P(Z> score) take 1- number\n",
    "\n",
    "Other examples here:  https://sphweb.bumc.bu.edu/otlt/mph-modules/bs/sas/sas4-onesamplettest/sas4-onesamplettest5.html"
   ]
  },
  {
   "cell_type": "markdown",
   "metadata": {},
   "source": [
    "#### Levels of likelihood\n",
    " \tIf probability of getting sample mean (by chance)  less than ( alpha levels :: 5% or 0.05, 1% or 0.001, .01% or 0.0001),\n",
    "    which is usually considered unlikely.\n",
    " \tTo get z-critical value for alpha level (get the z-value  for area 1-alpha level)"
   ]
  },
  {
   "cell_type": "markdown",
   "metadata": {},
   "source": [
    "## One tailed  test\n",
    "To get z-critical value at 0.05 confidence \\\n",
    "look at the z-table for 1-0.05 = 0.95 \\\n",
    "which gives 1.65\n",
    "<img src=\"critical.png\">\n"
   ]
  },
  {
   "cell_type": "markdown",
   "metadata": {},
   "source": [
    "In above example for z = 1.82 , from z table: \n",
    "<img src = \"https://s3.amazonaws.com/udacity-hosted-downloads/ZTable.jpg\">"
   ]
  },
  {
   "cell_type": "markdown",
   "metadata": {},
   "source": [
    "We will get the value 0.9656\\\n",
    "Hence probalility of getting x_bar more than z value is 1-0.9656 = 0.034 \\\n",
    "Therefore x_bar is significant at p < 0.05"
   ]
  },
  {
   "cell_type": "markdown",
   "metadata": {},
   "source": [
    "#####################################################################################################################\n",
    "## Two tailed test\n",
    "<img src = \"two_tailed.png\">\n"
   ]
  },
  {
   "cell_type": "markdown",
   "metadata": {},
   "source": [
    "For two-tailed t test, to get the z-critical value at 0.05 confidence, look at the z table for 0.025\\\n",
    "you will get -1.96, and put +1.96 on the other end"
   ]
  },
  {
   "cell_type": "markdown",
   "metadata": {},
   "source": [
    "#####################################################################################################################\n",
    "## Summary critical values \n",
    "<img src = \"onevstwo.png\">"
   ]
  },
  {
   "cell_type": "markdown",
   "metadata": {},
   "source": [
    "#####################################################################################################################\n",
    "## Hypothesis testing\n",
    "Null or H0        : population mean before = population mean after certained condition \\\n",
    "Alternative or H1 : population mean before != or > or < population mean after certained condition \\\n",
    "For Null hypothesis to be true, the sample mean (its z-score) lies outside the critical region (in white space).\n",
    "\n",
    "#### Note\n",
    "Hypothesis testing is just seeing if you can reject the null hypothesis or not\\\n",
    "We are not proving any Hypothesis\\\n",
    "Look at this one-tailed examples. We just failed to reject the null hypothesis\n",
    "\n",
    "<img src = \"dog.png\">\n",
    "    "
   ]
  },
  {
   "cell_type": "markdown",
   "metadata": {},
   "source": [
    "###### When to use one-tailed test: If you know the effect of intervention (either going to increase or decrease )\n",
    "###### When to use tow-tailed test: If you are not certained about the intervention"
   ]
  },
  {
   "cell_type": "markdown",
   "metadata": {},
   "source": [
    "#####################################################################################################################\n",
    "## What does it mean to reject the null?\n",
    "<img src = \"reject.png\">"
   ]
  },
  {
   "cell_type": "markdown",
   "metadata": {},
   "source": [
    "\n",
    "#####################################################################################################################\n",
    "\n",
    "\n",
    "##### Example:\n",
    "We failed to reject null because the z-score falls in the white region. \\\n",
    "Or probability of geting by chance (not by intervention) is greater than confidence level.\n",
    "<img src = \"rejectnull.png\">"
   ]
  },
  {
   "cell_type": "code",
   "execution_count": 113,
   "metadata": {},
   "outputs": [],
   "source": [
    "#####################################################################################################################"
   ]
  },
  {
   "cell_type": "markdown",
   "metadata": {},
   "source": [
    "### Decision erros\n",
    "<img src = \"errors.png\">"
   ]
  },
  {
   "cell_type": "markdown",
   "metadata": {},
   "source": [
    "##### If you reject null based on p < 0.05, Type I error is 5%"
   ]
  },
  {
   "cell_type": "markdown",
   "metadata": {},
   "source": [
    "#####################################################################################################################\n",
    "#### Problem 1\n",
    "<img src = \"problem1.png\">"
   ]
  },
  {
   "cell_type": "code",
   "execution_count": 114,
   "metadata": {},
   "outputs": [
    {
     "name": "stdout",
     "output_type": "stream",
     "text": [
      "Improvement very unlikely (5%) to be by a chance.\n",
      "Rejecting Null: Music indeed improves the memory by p < 0.05\n"
     ]
    }
   ],
   "source": [
    "# This in one-tailed test \n",
    "# Null : music does not imporve memory\n",
    "# Alternative: music imporves memore\n",
    "mu = 25\n",
    "sigma = 6\n",
    "x_bar = 28\n",
    "n = 36\n",
    "SE = sigma / np.sqrt(36)\n",
    "z = (x_bar - mu)/SE\n",
    "z_critical = 1.65 # of alpha = 0.05 , look the table for 0.95\n",
    "if z > z_critical:\n",
    "    print(\"Improvement very unlikely (5%) to be by a chance.\")\n",
    "    print(\"Rejecting Null: Music indeed improves the memory by p < 0.05\")\n",
    "else:\n",
    "    print(\"Can not reject Null: Music does not improve the memory\")"
   ]
  },
  {
   "cell_type": "markdown",
   "metadata": {},
   "source": [
    "######################################################################################################################\n",
    "## t test\n",
    "z test works when you know populatin mu and sigma but most of the time we don't. \\\n",
    "In general we don't have population SD (sigma) information, the we need t-test. \\\n",
    "From t test we can do two kinds of test: \n",
    "* How different a sample mean from a population \n",
    "* How different two sample means are from each other"
   ]
  },
  {
   "cell_type": "markdown",
   "metadata": {},
   "source": [
    "######################################################################################################################\n",
    "##### t distribution\n",
    "If degree of freedom increases , t distribution tends to population distribution\n",
    "<img src = \"t-distribution.png\">"
   ]
  },
  {
   "cell_type": "markdown",
   "metadata": {},
   "source": [
    "######################################################################################################################\n",
    "##### t table\n",
    "Unlike z table, where table values indicate probability and x and y axis give z-score,\\\n",
    "values in t table are critical values and x axis is for confidence interval and y axis is for degree of freedom\n",
    "<img src = \"https://s3.amazonaws.com/udacity-hosted-downloads/t-table.jpg\">"
   ]
  },
  {
   "cell_type": "markdown",
   "metadata": {},
   "source": [
    "##### Looking at the t table we can say that t-critical value for a one-tailed alpha level of 0.05 is 1.782\n",
    "##### Let's look at two-tailed t test\n",
    "<img src = \"twotailed_t.png\">\n",
    "\n",
    "##### The answer is looking at 0.025 confidence level at df of 29 is 2.045"
   ]
  },
  {
   "cell_type": "code",
   "execution_count": 115,
   "metadata": {},
   "outputs": [],
   "source": [
    "# Example 1\n",
    "# Lets we have a sample data \n",
    "sample = [5, 19, 11, 23, 12, 7,3, 21]\n",
    "# Problem:\n",
    "   # If the population mean is significantly greter than 10 [one-tailed]\n",
    "   # If the population mean is  significantly less than 10  [one-tailed]\n",
    "   # If pupulation mean is significantly different than 10  [two-tailed]\n",
    "# First calculate mean of the sample\n",
    "mu0 = 10\n",
    "x_bar = np.mean(sample)\n",
    "# degree of freedom\n",
    "df = len(sample)-1\n",
    "# sample SD, s value\n",
    "def s_value(sample):\n",
    "    x_bar = np.mean(sample)\n",
    "    df = len(sample)-1\n",
    "    sum_of_error = 0\n",
    "    for xi in sample:\n",
    "        sum_of_error += (xi - x_bar)**2\n",
    "    s = np.sqrt(sum_of_error/df)\n",
    "    return s\n",
    "        \n",
    "s = s_value(sample)  \n",
    "SE = s/np.sqrt(len(sample))\n",
    "t = (x_bar - mu0)/SE\n"
   ]
  },
  {
   "cell_type": "markdown",
   "metadata": {},
   "source": [
    "t value is 0.977 \\\n",
    "if we check that  for 7 df , probability lies between 0.15 to 0.20 for one tailed \\\n",
    "For two tailed test, just multiply this interval by two, 0.3 to 0.4 \\\n",
    "Hence for alpha level of 0.05 in either test we can not reject null hypothesis. \\\n",
    "That is population mean is not significantly different than 10"
   ]
  },
  {
   "cell_type": "code",
   "execution_count": 116,
   "metadata": {},
   "outputs": [],
   "source": [
    "# Example 2:\n",
    "'''\n",
    "In california mean reant of a single bed appt is $1830. \n",
    "A rental company wants to estimate average rent and \n",
    "they selected a random sample of 25 found mean rent $1700 and sample SD of $200.\n",
    "Test if population mean is significanlty different than $1830\n",
    "'''\n",
    "# This is two sample t test\n",
    "mu0 = 1830\n",
    "x_bar = 1700\n",
    "s = 200\n",
    "n = 25\n",
    "df = 24\n",
    "SE = s/np.sqrt(25)\n",
    "t = (x_bar - mu0)/ SE\n",
    "\n",
    "\n"
   ]
  },
  {
   "cell_type": "markdown",
   "metadata": {},
   "source": [
    "t value is -3.25, from t table for 24 df, it lies between (0.001 to 0.0025) \\\n",
    "For two tailed the values is (0.002 to 0.005).\n",
    "We can get exact p-value from this link : https://www.graphpad.com/quickcalcs/pValue1/ \\\n",
    "Which gives the  value equals  to 0.0034.\n",
    "So it is significant and we can reject null hypothesis.\\\n",
    "We can conclude that mean rent is sinificantly different than $1830 for 0.005 confidence level (95% confidence interval).\n"
   ]
  },
  {
   "cell_type": "markdown",
   "metadata": {},
   "source": [
    "#### Measuring effect size while comparing mean\n",
    "<img src = \"cohen.png\">"
   ]
  },
  {
   "cell_type": "code",
   "execution_count": 117,
   "metadata": {},
   "outputs": [
    {
     "data": {
      "text/plain": [
       "-0.65"
      ]
     },
     "execution_count": 117,
     "metadata": {},
     "output_type": "execute_result"
    }
   ],
   "source": [
    "cohen_d = (x_bar - mu0)/s\n",
    "cohen_d"
   ]
  },
  {
   "cell_type": "markdown",
   "metadata": {},
   "source": [
    "### Paired samples t-test\n",
    "#### A. Dependent t-test for samples of  same subject over two conditions\n",
    "<img src = \"dependent.png\">\n",
    "\n",
    "##### Where D is absolute difference\n",
    "\n",
    "Hypothesis for two conditions A and B are for the population\n",
    "* H0: mu_A = mu_B\n",
    "* H1: \n",
    "      mu_A > mu_B\n",
    "      mu_A > mu_B\n",
    "      mu_A != mu_B"
   ]
  },
  {
   "cell_type": "markdown",
   "metadata": {},
   "source": [
    "#### B. Independent samples t-test\n",
    "<img src = \"independent.png\">"
   ]
  },
  {
   "cell_type": "markdown",
   "metadata": {},
   "source": [
    "###########################################################################\n",
    "#### Problem example\n",
    "\n",
    "You and your friends want to go out to eat, but you don't want to pay a lot.\n",
    "You decide to either go to Gettysburg\n",
    "or Wilma. You look online and find the average meal prices at 18\n",
    "restaurants in Gettysburg and It restaurants in Wilma. \\\n",
    "You can get the data from this link: https://docs.google.com/spreadsheets/d/1bNeiNwHKgTbg-6h_ahFuDUd_TkVWDuIrTvELAvcKzUc/edit#gid=0\n"
   ]
  },
  {
   "cell_type": "code",
   "execution_count": 118,
   "metadata": {},
   "outputs": [
    {
     "name": "stdout",
     "output_type": "stream",
     "text": [
      "-2.5769390582356815 30\n"
     ]
    }
   ],
   "source": [
    "# Load the data \n",
    "# Average meal price at Gettysburg\n",
    "Getty = [9, 5, 6, 11, 8, 5, 7, 13, 12, 13, 9, 8, 10, 6, 11, 9, 7, 12]\n",
    "# Average meal price at Wilma\n",
    "Wilma = [11, 10, 12, 9, 8, 13, 14, 15, 12, 11, 13, 8, 9, 11]\n",
    "\n",
    "n_G = len(Getty)\n",
    "n_W = len(Wilma)\n",
    "df = n_G + n_W -2\n",
    "# Calculate mean\n",
    "G_bar = np.mean(Getty)\n",
    "W_bar = np.mean(Wilma)\n",
    "\n",
    "# Calculate sample SD\n",
    "s_G = s_value(Getty) \n",
    "s_W = s_value(Wilma)\n",
    "\n",
    "# Hypothesis for two tailed t-test\n",
    "# H0: mu_G = mu_W\n",
    "# H1: mu_G != mu_W\n",
    "\n",
    "# calculate standard error\n",
    "SE = np.sqrt(s_G**2/n_G + s_W**2/n_W )\n",
    "# calculate t\n",
    "t = (G_bar - W_bar)/ SE\n",
    "print(t,df )"
   ]
  },
  {
   "cell_type": "markdown",
   "metadata": {},
   "source": [
    "Since it is two tailed test, hence t =+/- 2.58 \\\n",
    "Look at the t table for df (n1 + n2 -2) 30 is (0.005 to 0.001) *2 \\\n",
    "You can look at the link: : https://www.graphpad.com/quickcalcs/pValue1/ to get exact p-value.\\\n",
    "\n",
    "**Or you can look at the t-critical value for 0.05/2 (two-tailed) in the table which is 2.042, which is less than 2.58.** \\\n",
    "Hence, it is significant at 0.05 alpha level. \\\n",
    "We reject Null Hypothesis.\n",
    "##### Conclusion: Average price of meal over two locations is significantly different"
   ]
  },
  {
   "cell_type": "code",
   "execution_count": 119,
   "metadata": {},
   "outputs": [
    {
     "name": "stdout",
     "output_type": "stream",
     "text": [
      "(-0.002611320288026686, 4.3994367171134225)\n"
     ]
    }
   ],
   "source": [
    "# Confidence inter for 95% confidence\n",
    "# (MD - t *SE, MD + t *SE)\n",
    "\n",
    "# Calculate mean difference\n",
    "MD = abs(G_bar - W_bar)\n",
    "t = 2.58\n",
    "CI = (MD - t *SE, MD + t *SE)\n",
    "print(CI)"
   ]
  },
  {
   "cell_type": "code",
   "execution_count": 120,
   "metadata": {},
   "outputs": [],
   "source": [
    "# Since MD is 2.12, What proportion of difference is contributed to location?\n",
    "# Calculate r^2\n",
    "r_squared = (t**2)/ (t**2 + df)\n",
    "\n",
    "\n",
    "\n",
    "\n",
    "\n"
   ]
  },
  {
   "cell_type": "markdown",
   "metadata": {},
   "source": [
    "### Note: R_squared measures the proportion of a differnce in means that can be explained by the independent variable"
   ]
  },
  {
   "cell_type": "markdown",
   "metadata": {},
   "source": [
    "### Pool Variance and Corrected Standard Errof\n",
    "##### Standard error we used SE = sqrt(S1^2/n1 + S2^2/n2) assumes that samples have approximately same size. We need to correct it for various sample size\n",
    "<img src = \"pool2.png\">\n",
    "\n",
    "##### Note: If H0 (Null Hypotheis) is not zero, then we have to use full t value, putting mu_x - mu_y"
   ]
  },
  {
   "cell_type": "markdown",
   "metadata": {},
   "source": [
    "##############################################################\n",
    "##### In Summary t independent test\n",
    "<img src = \"tsummary.png\">"
   ]
  },
  {
   "cell_type": "markdown",
   "metadata": {},
   "source": [
    "### Problem\n",
    "If have two samples X (n = 18, mean = 3.8) and Y (n= 25, mean = 2.1) with pool variance is 0.13. Test if mean population of X is greater than Y. "
   ]
  },
  {
   "cell_type": "markdown",
   "metadata": {},
   "source": []
  },
  {
   "cell_type": "code",
   "execution_count": 121,
   "metadata": {},
   "outputs": [],
   "source": [
    "# Solution \n",
    "# It is one-tailed t test\n",
    "# H0: mu_x <= mu_y\n",
    "# H1: mu_x > mu_y\n",
    "x_bar = 3.8\n",
    "y_bar = 2.1\n",
    "n_x = 18\n",
    "n_y = 25\n",
    "sp_squared = 0.13\n",
    "df = n_x + n_y -2\n",
    "# Standard Error\n",
    "SE = np.sqrt(sp_squared/n_x + sp_squared/n_y)\n",
    "\n",
    "# T stat\n",
    "t = (x_bar - y_bar)/SE\n",
    "# t is 15.25\n",
    "# for confidence interval 0.05 and df of 41\n",
    "t_critical = 1.68\n",
    "# t is greater than t_critical,\n",
    "# We reject the Null"
   ]
  },
  {
   "cell_type": "markdown",
   "metadata": {},
   "source": [
    "######################################################\n",
    "#### Problem: Two tailed\n",
    "##### Note : while looking a t-table look for half of condidence level\n",
    "A_bar = 35.8,\n",
    "n_A = 207,\n",
    "SS_A = 481\\\n",
    "B_bar = 31.6,\n",
    "n_B  = 220,\n",
    "SS_B = 322\n",
    "\n",
    "Test if population mean of A is different than B at 0.01 level of confidence"
   ]
  },
  {
   "cell_type": "code",
   "execution_count": 122,
   "metadata": {},
   "outputs": [],
   "source": [
    "# Solution\n",
    "# This is two-tailed test\n",
    "# Hypotheis:\n",
    "#    H0: mu_A - mu_B = 0\n",
    "#    H1: mu_A - mu_B != 0\n",
    "\n",
    "\n",
    "A_bar = 35.8\n",
    "n_A = 207\n",
    "SS_A = 481\n",
    "\n",
    "B_bar = 31.6\n",
    "n_B = 220\n",
    "SS_B = 322\n",
    "# Calculate pooled variance\n",
    "df_A = n_A -1\n",
    "df_B = n_B -1\n",
    "df = n_A + n_B -2\n",
    "SP_squared = (SS_A + SS_B)/ (df_A + df_B)\n",
    "# Standard error\n",
    "SE = np.sqrt(SP_squared/n_A + SP_squared/n_B)\n",
    "\n",
    "# find t_critical for 0.01/2 (two-tailed) level of confidence in t-table at df = 425\n",
    "# t_critical <= +/- 2.62\n",
    "\n",
    "# calculate t value\n",
    "t = (A_bar - B_bar)/SE\n",
    "# t = 31.55\n",
    "# Since t > t_critical, null hypothesis is rejected"
   ]
  },
  {
   "cell_type": "markdown",
   "metadata": {},
   "source": [
    "######################################################################\n",
    "######################################################################\n",
    "# ANOVA \n",
    "**Comparing means of more than two Samples**\\\n",
    "Basic: How can we compare three or more samples? \\\n",
    "***Find the average squared deviation of each sample mean from the total mean (GRAND MEAN). The Grand Mean is mean of all values. If samples have same number of obsevations, then the Grand Mean is equal to mean of sample means.*** \\\n",
    "ANOVA accounts for between-group and within group variablity.\\\n",
    "<img src = \"anova.png\">\n",
    "\n",
    "\n"
   ]
  },
  {
   "cell_type": "markdown",
   "metadata": {},
   "source": [
    "################################################################\n",
    "##### ANOVA Hypothesis\n",
    "H0: Population mean of all group is same \\\n",
    "H1: At least one pair of samples is singificantly different\\\n",
    "\n",
    "If within group variablity increases, it favors H0 and between group variablity favors H1"
   ]
  },
  {
   "cell_type": "markdown",
   "metadata": {},
   "source": [
    "\n",
    "***ANOVA depends upon F statistics or F-ratio.\\\n",
    "F = Between Group Variablity / Within Group Variablity\\\n",
    "Large F score favors Alternative Hypothesis***\n",
    "<img src = \"anova2.png\">"
   ]
  },
  {
   "cell_type": "markdown",
   "metadata": {},
   "source": [
    "## One-Way ANOVA\n",
    "\n",
    "If you are testing hypotheses that require the comparison of three or more samples, then you need to use the analysis of variance (ANOVA) statistic.  You can not simply use multiple t-tests because that will increase the Type I error to the point where your statistical analysis will become invalid. A One-Way ANOVA is used if your experimental design has only one independent variable (with three or more levels or groups). If you have two independent variables you are forced to use a Two-Way ANOVA.\n",
    "<img src = \"fratio.png\">\n",
    "\n",
    "Where:\\\n",
    "N = The total number of observations\n",
    "\n",
    "n or (n_k) = The number of observations within a group\n",
    "\n",
    "K = The number of groups.\\\n",
    "In above formula we assume that n is same for all group, otherwise it should in inside the summation.\\\n",
    "F-distribution is positively skewed distribution peaked at 1.\n",
    "\n",
    "If the null hypothesis is true, then on average the F-ratio for ANOVA is expected to have a value near 1.00. Because the between-group variability and within-group variability should be roughly equal"
   ]
  },
  {
   "cell_type": "code",
   "execution_count": 123,
   "metadata": {},
   "outputs": [],
   "source": [
    "# Example consider following data a sample with three groups\n",
    "# It is shoe price for three different brands.\n",
    "group1 = [15,12,14,11]\n",
    "group2 = [39, 45, 48, 60]\n",
    "group3 = [65, 45, 32, 38]\n",
    "# calculate mean and grand mean\n",
    "x1_bar = np.mean(group1)\n",
    "x2_bar = np.mean(group2)\n",
    "x3_bar = np.mean(group3)\n",
    "xg_bar = np.mean([group1, group2, group3])"
   ]
  },
  {
   "cell_type": "code",
   "execution_count": 124,
   "metadata": {},
   "outputs": [
    {
     "name": "stdout",
     "output_type": "stream",
     "text": [
      "35.333333333333336 13.0 48.0 45.0\n"
     ]
    }
   ],
   "source": [
    "print(xg_bar, x1_bar, x2_bar, x3_bar)"
   ]
  },
  {
   "cell_type": "code",
   "execution_count": 125,
   "metadata": {},
   "outputs": [],
   "source": [
    "# Now calculate sum of squares between the group\n",
    "def ss_between(list_of_groups):\n",
    "    ss_bet = 0\n",
    "    merged_list = [value for item in list_of_groups for value in item]\n",
    "    xg_bar = np.mean(merged_list)\n",
    "    for group in list_of_groups:\n",
    "        x_bar = np.mean(group)\n",
    "        ss_bet += len(group) * (x_bar - xg_bar)**2\n",
    "    return ss_bet\n",
    "        \n",
    "        "
   ]
  },
  {
   "cell_type": "code",
   "execution_count": 126,
   "metadata": {},
   "outputs": [
    {
     "data": {
      "text/plain": [
       "3010.666666666667"
      ]
     },
     "execution_count": 126,
     "metadata": {},
     "output_type": "execute_result"
    }
   ],
   "source": [
    "# apply the function to calculate the sum of squares between the groups\n",
    "ss_bet = ss_between([group1, group2, group3])\n",
    "ss_bet"
   ]
  },
  {
   "cell_type": "code",
   "execution_count": null,
   "metadata": {},
   "outputs": [],
   "source": []
  },
  {
   "cell_type": "code",
   "execution_count": 127,
   "metadata": {},
   "outputs": [],
   "source": [
    "# Now calculate sum of squares within the group\n",
    "def ss_within(list_of_groups):\n",
    "    ss_wthn = 0\n",
    "    for group in list_of_groups:\n",
    "        x_bar = np.mean(group)\n",
    "        for x in group:\n",
    "            ss_wthn += (x - x_bar)**2\n",
    "    return ss_wthn\n",
    "        \n",
    "        "
   ]
  },
  {
   "cell_type": "code",
   "execution_count": 128,
   "metadata": {},
   "outputs": [
    {
     "data": {
      "text/plain": [
       "862.0"
      ]
     },
     "execution_count": 128,
     "metadata": {},
     "output_type": "execute_result"
    }
   ],
   "source": [
    "# apply the function to calculate the sum of squares within the groups\n",
    "ss_wthn = ss_within([group1, group2, group3])\n",
    "ss_wthn"
   ]
  },
  {
   "cell_type": "code",
   "execution_count": 129,
   "metadata": {},
   "outputs": [],
   "source": [
    "# Calculate the degree of freedom\n",
    "def df(list_of_groups):\n",
    "    # df_between = k -1, whre k is number of groups\n",
    "    # df_within = N - k\n",
    "    k = len(list_of_groups)\n",
    "    N = 0\n",
    "    for group in list_of_groups:\n",
    "        N += len(group)\n",
    "    df_between = k-1\n",
    "    df_within = N-k\n",
    "    return(df_between, df_within)\n",
    "        "
   ]
  },
  {
   "cell_type": "code",
   "execution_count": 130,
   "metadata": {},
   "outputs": [
    {
     "name": "stdout",
     "output_type": "stream",
     "text": [
      "df_between: 2 and  df_within: 9\n"
     ]
    }
   ],
   "source": [
    "# Calculate the degree of freedom\n",
    "df_between, df_within = df([group1, group2, group3])\n",
    "print(f'df_between: {df_between} and  df_within: {df_within}')"
   ]
  },
  {
   "cell_type": "code",
   "execution_count": 131,
   "metadata": {},
   "outputs": [
    {
     "data": {
      "text/plain": [
       "15.716937354988401"
      ]
     },
     "execution_count": 131,
     "metadata": {},
     "output_type": "execute_result"
    }
   ],
   "source": [
    "# Calculate F-ratio\n",
    "F = (ss_bet/df_between) / (ss_wthn/df_within)\n",
    "F"
   ]
  },
  {
   "cell_type": "markdown",
   "metadata": {},
   "source": [
    "Now look at the F table to find critical value for alpha level 0.05 \n",
    "\n",
    "for degree of freedom 2  and 9 (df1= df_between, df2 = df_within)\n",
    "\n",
    "\n",
    "<img src = \"ftable.png\">\n",
    "\n",
    "**It is 4.26**\n",
    "\n",
    "***Hence F_value (15.72) is greater than F_critial (4.26) at 0.05 confidence level, we reject the null and conclude that at least one group has significantly different prices.***\n"
   ]
  },
  {
   "cell_type": "markdown",
   "metadata": {},
   "source": [
    "####################################################\n",
    "## Multiple Comparision test\n",
    "ANOVA F-test tells us wheter there is significant different between mean of multiple grouops or not\n",
    "\n",
    "It actually doest not tell us which two pairs are significantly different.\n",
    "To find the pairwise difference we can to multiple comparision test. (Like we did in cohen's d test to determine size effect in t-test)\n",
    "\n",
    "The first one I am using here is **Tukey's Honestly Significant Difference (HSD).**\n",
    "\n",
    "<img src = \"tukey.png\">\n",
    "\n",
    "\n",
    "The studentized range statistic (q)* table is given below:\n",
    "\n",
    "<img src= \"qtable.png\">\n",
    "\n",
    "For sample size k = 3 and df_within = 9 is : **3.95.**"
   ]
  },
  {
   "cell_type": "code",
   "execution_count": 132,
   "metadata": {},
   "outputs": [
    {
     "data": {
      "text/plain": [
       "22.318697526048854"
      ]
     },
     "execution_count": 132,
     "metadata": {},
     "output_type": "execute_result"
    }
   ],
   "source": [
    "# Calculate Tukey's HSD\n",
    "q = 3.95\n",
    "ms_within = ss_wthn/df_within\n",
    "n = 3 # Number of groups\n",
    "Tukey_HSD = q * np.sqrt(ms_within/n)\n",
    "Tukey_HSD"
   ]
  },
  {
   "cell_type": "markdown",
   "metadata": {},
   "source": [
    "The Tykey's HSD value 22.32 means, if the absolute mean difference between any two groups is greater then 22.32 then they are significantly different."
   ]
  },
  {
   "cell_type": "code",
   "execution_count": 133,
   "metadata": {},
   "outputs": [
    {
     "name": "stdout",
     "output_type": "stream",
     "text": [
      "mean diffecence between group1 and group2: 35.0\n",
      "mean diffecence between group1 and group3: 32.0\n",
      "mean diffecence between group2 and group3: 3.0\n"
     ]
    }
   ],
   "source": [
    "# lets check this\n",
    "print(f'mean diffecence between group1 and group2: {abs(x1_bar - x2_bar)}')\n",
    "print(f'mean diffecence between group1 and group3: {abs(x1_bar - x3_bar)}')\n",
    "print(f'mean diffecence between group2 and group3: {abs(x2_bar - x3_bar)}')"
   ]
  },
  {
   "cell_type": "markdown",
   "metadata": {},
   "source": [
    "***We can conclude that at alpha level 0.05 mean difference between group1 and group2,   and mean difference between group1 and group2 are significantly different.***"
   ]
  },
  {
   "cell_type": "markdown",
   "metadata": {},
   "source": [
    "Next one I am going to discuss is **Cohen's d** for Multiple Comparison.\n",
    "\n",
    "d = (X1_bar - X2_bar) / MS_within"
   ]
  },
  {
   "cell_type": "code",
   "execution_count": 134,
   "metadata": {},
   "outputs": [
    {
     "name": "stdout",
     "output_type": "stream",
     "text": [
      "-0.36542923433874713 -0.3341067285382831 0.031322505800464036\n"
     ]
    }
   ],
   "source": [
    "# Calculate d\n",
    "MS_within = ss_wthn/df_within\n",
    "d12 = (x1_bar - x2_bar)/ MS_within\n",
    "d13 = (x1_bar - x3_bar)/ MS_within\n",
    "d23 = (x2_bar - x3_bar)/ MS_within\n",
    "print(d12, d13, d23)"
   ]
  },
  {
   "cell_type": "markdown",
   "metadata": {},
   "source": [
    "Another Method to calculate the size effect is eta-squared (n^2)\\\n",
    "which proportion of total variation that is due to between group differences.\n",
    "\n",
    "n^2 = SS_between / (SS_between + SS_within)"
   ]
  },
  {
   "cell_type": "code",
   "execution_count": 135,
   "metadata": {},
   "outputs": [
    {
     "name": "stdout",
     "output_type": "stream",
     "text": [
      "0.7774143570321914\n"
     ]
    }
   ],
   "source": [
    "# Calculate n^2\n",
    "n_squared = ss_bet / (ss_bet + ss_wthn)\n",
    "print(n_squared)\n",
    "# 0.78\n",
    "# Which explains that 78% of difference is due to the differences between brand price, other 28% is unexplained\n",
    "# Anything bigger than 14% is considered big."
   ]
  },
  {
   "cell_type": "markdown",
   "metadata": {},
   "source": [
    "##### Example ANOVA with different sample/grup size\n",
    "We have following data\n",
    "\n",
    "<img src = \"cancer.png\">"
   ]
  },
  {
   "cell_type": "code",
   "execution_count": 136,
   "metadata": {},
   "outputs": [
    {
     "name": "stdout",
     "output_type": "stream",
     "text": [
      "1.4999999999999998 1.5999999999999999 1.6142857142857143 2.875\n"
     ]
    }
   ],
   "source": [
    "# Lets solve the problem\n",
    "placebo = [1.5, 1.3, 1.8, 1.6, 1.3]\n",
    "drug1 = [1.6, 1.7, 1.9, 1.2]\n",
    "drug2 = [2.0, 1.4, 1.5, 1.5, 1.8, 1.7, 1.4]\n",
    "drug3 = [2.9, 3.1, 2.8, 2.7]\n",
    "# Calculate mean\n",
    "xp_bar = np.mean(placebo)\n",
    "x1_bar = np.mean(drug1)\n",
    "x2_bar = np.mean(drug2)\n",
    "x3_bar = np.mean(drug3)\n",
    "print(xp_bar, x1_bar, x2_bar, x3_bar)"
   ]
  },
  {
   "cell_type": "code",
   "execution_count": 137,
   "metadata": {},
   "outputs": [
    {
     "name": "stdout",
     "output_type": "stream",
     "text": [
      "1.8350000000000002\n"
     ]
    }
   ],
   "source": [
    "# calculate grand mean\n",
    "total = [placebo , drug1,drug2, drug3]\n",
    "merged_list = [value for item in total for value in item]\n",
    "xg_bar = np.mean(merged_list)\n",
    "\n",
    "print(xg_bar)"
   ]
  },
  {
   "cell_type": "code",
   "execution_count": 138,
   "metadata": {},
   "outputs": [
    {
     "name": "stdout",
     "output_type": "stream",
     "text": [
      "5.449428571428573 0.8360714285714286\n"
     ]
    }
   ],
   "source": [
    "## Calculate sum of squares between and within\n",
    "ss_b = ss_between(total)\n",
    "ss_w = ss_within(total)\n",
    "print(ss_b, ss_w)"
   ]
  },
  {
   "cell_type": "code",
   "execution_count": 139,
   "metadata": {},
   "outputs": [
    {
     "name": "stdout",
     "output_type": "stream",
     "text": [
      "df_between: 3 and  df_within: 16\n"
     ]
    }
   ],
   "source": [
    "## get degree of freedom\n",
    "# Calculate the degree of freedom\n",
    "df_b, df_w = df(total)\n",
    "print(f'df_between: {df_b} and  df_within: {df_w}')"
   ]
  },
  {
   "cell_type": "code",
   "execution_count": 140,
   "metadata": {},
   "outputs": [
    {
     "name": "stdout",
     "output_type": "stream",
     "text": [
      "1.816476190476191 0.052254464285714286\n"
     ]
    }
   ],
   "source": [
    "# Calculate mean sum of squares\n",
    "ms_b = ss_b/df_b\n",
    "ms_w = ss_w/df_w\n",
    "print(ms_b, ms_w)"
   ]
  },
  {
   "cell_type": "code",
   "execution_count": 141,
   "metadata": {},
   "outputs": [
    {
     "data": {
      "text/plain": [
       "34.7621244482415"
      ]
     },
     "execution_count": 141,
     "metadata": {},
     "output_type": "execute_result"
    }
   ],
   "source": [
    "# Calculate F ratio\n",
    "F = ms_b/ms_w\n",
    "F"
   ]
  },
  {
   "cell_type": "code",
   "execution_count": 142,
   "metadata": {},
   "outputs": [
    {
     "data": {
      "text/plain": [
       "0.8669841017307408"
      ]
     },
     "execution_count": 142,
     "metadata": {},
     "output_type": "execute_result"
    }
   ],
   "source": [
    "# What proportion of the difference between tumor reduction is due to the type of drug?\n",
    "# Calculate n^2\n",
    "n_squared = ss_b / (ss_b + ss_w)\n",
    "n_squared"
   ]
  },
  {
   "cell_type": "markdown",
   "metadata": {},
   "source": [
    "#### Wrap up\n",
    "<img src = \"assume.png\">"
   ]
  },
  {
   "cell_type": "markdown",
   "metadata": {},
   "source": [
    "######################################################################################################\n",
    "######################################################################################################\n",
    "######################################################################################################\n",
    "# Chapter 2 : Correlation\n",
    "We can simply inspect the correlation between two variables (independent and dependent ) using Scatterplot.\n",
    "\n",
    "In statistics, we can quantify the relationship between two variable by calculating **Correlation coefficeint (r).**\n",
    "\n",
    "\n",
    "<img src = \"correlation.png\">\n",
    "\n",
    "To determine if a correlation coefficient is statistically significant, you can calculate the corresponding t-score and p-value.\n",
    "\n",
    "The formula to calculate the t-score of a correlation coefficient (r) is:\n",
    "\n",
    "t = r * √n-2 / √1-r2\n",
    "\n",
    "The p-value is then calculated as the corresponding two-sided p-value for the t-distribution with n-2 degrees of freedom."
   ]
  },
  {
   "cell_type": "code",
   "execution_count": 143,
   "metadata": {},
   "outputs": [],
   "source": [
    "# Example \n",
    "x = [3, 4, 4, 5, 7, 8, 10, 12, 13, 15]\n",
    "y = [2, 4, 4, 5, 4, 7, 8, 19, 14, 10]"
   ]
  },
  {
   "cell_type": "markdown",
   "metadata": {},
   "source": [
    "#### Formula for r\n",
    "<img src = \"pearson.png\">\n"
   ]
  },
  {
   "cell_type": "code",
   "execution_count": 144,
   "metadata": {},
   "outputs": [],
   "source": [
    "# Solution\n",
    "# Define a function to calculate covariance between two groups\n",
    "def Cov_xy(group1, group2):\n",
    "    cov = 0\n",
    "    x1_bar = np.mean(group1)\n",
    "    x2_bar = np.mean(group2)\n",
    "    for i in range(len(group1)):\n",
    "        cov += (group1[i] - x1_bar) * (group2[i] - x2_bar)\n",
    "    return cov/(len(group1)-1)\n",
    "\n",
    "# Define a function to calculate standared deviation\n",
    "def sigma(group):\n",
    "    ss = 0\n",
    "    x_bar = np.mean(group)\n",
    "    for item in group:\n",
    "        ss += (item -  x_bar)**2\n",
    "    s = np.sqrt(ss/(len(group)-1))\n",
    "    return s"
   ]
  },
  {
   "cell_type": "code",
   "execution_count": 145,
   "metadata": {},
   "outputs": [
    {
     "name": "stdout",
     "output_type": "stream",
     "text": [
      "0.807617703074863\n"
     ]
    }
   ],
   "source": [
    "# calculate r\n",
    "r = Cov_xy(x,y) / (sigma(x) *sigma(y))\n",
    "print(r)"
   ]
  },
  {
   "cell_type": "code",
   "execution_count": 146,
   "metadata": {},
   "outputs": [
    {
     "data": {
      "text/plain": [
       "3.8736018351473174"
      ]
     },
     "execution_count": 146,
     "metadata": {},
     "output_type": "execute_result"
    }
   ],
   "source": [
    "# calculate t\n",
    "# t = r * √n-2 / √1-r2\n",
    "t = r * np.sqrt(len(x)-2) / np.sqrt(1- r**2)\n",
    "t"
   ]
  },
  {
   "cell_type": "code",
   "execution_count": 147,
   "metadata": {},
   "outputs": [],
   "source": [
    "# find t_critical for 0.05/2 (two-tailed) level of confidence in t-table at n = 8 (10-2)\n",
    "t_critical = 2.306\n",
    "# Since t > t_critical,  we reject null, that means there is sinificance correlation between two groups"
   ]
  },
  {
   "cell_type": "code",
   "execution_count": 148,
   "metadata": {},
   "outputs": [
    {
     "name": "stderr",
     "output_type": "stream",
     "text": [
      "<ipython-input-148-6e9ab49a8256>:4: DeprecationWarning: Please use `pearsonr` from the `scipy.stats` namespace, the `scipy.stats.stats` namespace is deprecated.\n",
      "  from scipy.stats.stats import pearsonr\n"
     ]
    },
    {
     "data": {
      "text/plain": [
       "(0.8076177030748631, 0.004717255828132089)"
      ]
     },
     "execution_count": 148,
     "metadata": {},
     "output_type": "execute_result"
    }
   ],
   "source": [
    "# Using python package directly\n",
    "# This example is copied from source:\n",
    "# https://www.statology.org/correlation-test-in-python/\n",
    "from scipy.stats.stats import pearsonr\n",
    "\n",
    "#calculation correlation coefficient and p-value between x and y\n",
    "pearsonr(x, y)\n"
   ]
  },
  {
   "cell_type": "markdown",
   "metadata": {},
   "source": [
    "Here’s how to interpret the output:\n",
    "\n",
    "Pearson correlation coefficient (r): 0.8076\n",
    "\n",
    "Two-tailed p-value: 0.0047\n",
    "\n",
    "Since the correlation coefficient is close to 1, this tells us that there is a strong positive association between the two variables.\n",
    "\n",
    "And since the corresponding p-value is less than .05, we conclude that there is a statistically significant association between the two variables."
   ]
  },
  {
   "cell_type": "markdown",
   "metadata": {},
   "source": [
    "#### Spearman’s Rank Correlation Coefficient\n",
    "If your data is not linearly distributed, you should use Spearman’s Rank Correlation Coefficient instead of the Pearson Correlation Coefficient. The Spearman’s Rank Correlation Coefficient is designed for distributions that are monotonic.\n",
    "\n",
    "<img src = \"spearman.png\">\n",
    "\n",
    "\n",
    "For example of python to calculate Spearman’s Rank Correlation Coefficient, please visit this site:\n",
    "\n",
    "<https://towardsdatascience.com/statistics-in-python-understanding-variance-covariance-and-correlation-4729b528db01>"
   ]
  },
  {
   "cell_type": "markdown",
   "metadata": {},
   "source": [
    "######################################################################################################\n",
    "######################################################################################################\n",
    "######################################################################################################\n",
    "# Chapter 3 : Regression\n",
    "\n",
    "<img src = \"regression.png\">\n",
    "\n",
    "The line of best fit helps us:\n",
    "\n",
    "1. Describe the data \n",
    "2. Make prediction"
   ]
  },
  {
   "cell_type": "code",
   "execution_count": 149,
   "metadata": {},
   "outputs": [
    {
     "name": "stdout",
     "output_type": "stream",
     "text": [
      "                            OLS Regression Results                            \n",
      "==============================================================================\n",
      "Dep. Variable:                      y   R-squared:                       0.652\n",
      "Model:                            OLS   Adj. R-squared:                  0.609\n",
      "Method:                 Least Squares   F-statistic:                     15.00\n",
      "Date:                Mon, 18 Jul 2022   Prob (F-statistic):            0.00472\n",
      "Time:                        08:52:33   Log-Likelihood:                -25.084\n",
      "No. Observations:                  10   AIC:                             54.17\n",
      "Df Residuals:                       8   BIC:                             54.77\n",
      "Df Model:                           1                                         \n",
      "Covariance Type:            nonrobust                                         \n",
      "==============================================================================\n",
      "                 coef    std err          t      P>|t|      [0.025      0.975]\n",
      "------------------------------------------------------------------------------\n",
      "Intercept     -0.5208      2.368     -0.220      0.831      -5.982       4.940\n",
      "x              1.0149      0.262      3.874      0.005       0.411       1.619\n",
      "==============================================================================\n",
      "Omnibus:                        7.326   Durbin-Watson:                   1.903\n",
      "Prob(Omnibus):                  0.026   Jarque-Bera (JB):                2.631\n",
      "Skew:                           1.037   Prob(JB):                        0.268\n",
      "Kurtosis:                       4.418   Cond. No.                         20.6\n",
      "==============================================================================\n",
      "\n",
      "Notes:\n",
      "[1] Standard Errors assume that the covariance matrix of the errors is correctly specified.\n"
     ]
    },
    {
     "name": "stderr",
     "output_type": "stream",
     "text": [
      "/opt/homebrew/Caskroom/miniforge/base/lib/python3.9/site-packages/scipy/stats/_stats_py.py:1477: UserWarning: kurtosistest only valid for n>=20 ... continuing anyway, n=10\n",
      "  warnings.warn(\"kurtosistest only valid for n>=20 ... continuing \"\n"
     ]
    }
   ],
   "source": [
    "# Using statsmodels to do regression analysis\n",
    "import statsmodels.api as sm\n",
    "from statsmodels.formula.api import ols\n",
    "data = pd.DataFrame({\"x\":x, \"y\":y})\n",
    "model = ols(\"y ~ x\", data=data).fit()\n",
    "print(model.summary())"
   ]
  },
  {
   "cell_type": "code",
   "execution_count": 150,
   "metadata": {
    "scrolled": true
   },
   "outputs": [
    {
     "name": "stdout",
     "output_type": "stream",
     "text": [
      "eval_env: 1\n"
     ]
    },
    {
     "data": {
      "image/png": "[encoded data removed]",
      "text/plain": [
       "<Figure size 576x360 with 4 Axes>"
      ]
     },
     "metadata": {
      "needs_background": "light"
     },
     "output_type": "display_data"
    }
   ],
   "source": [
    "fig = sm.graphics.plot_regress_exog(model, \"x\")\n",
    "fig.tight_layout(pad=1.0)"
   ]
  },
  {
   "cell_type": "code",
   "execution_count": 151,
   "metadata": {},
   "outputs": [
    {
     "data": {
      "image/png": "[encoded data removed]",
      "text/plain": [
       "<Figure size 576x360 with 1 Axes>"
      ]
     },
     "metadata": {
      "needs_background": "light"
     },
     "output_type": "display_data"
    }
   ],
   "source": [
    "# Visualizing the regression line\n",
    "plt.scatter(x, y)\n",
    "x =  np.array(x)\n",
    "plt.plot(x, -0.5208 + (1.0149* x), 'r')\n",
    "plt.show()"
   ]
  },
  {
   "cell_type": "markdown",
   "metadata": {},
   "source": [
    "##############################################################################################\n",
    "##############################################################################################\n",
    "##############################################################################################\n",
    "## Chi-square test\n",
    "What we have done so far (z-test, t-test, ANOVA (F-test), corrlation, regression) are pametric test that use numerical data which requires mean and standard deviation. \n",
    "\n",
    "However, some data does not have parametric information.\\\n",
    "Examples includes the ***Categorical data:*** \\\n",
    "preference of beach or mountain\\\n",
    "Eye color (e.g. “blue”, “green”, “brown”)\\\n",
    "Gender (e.g. “male”, “female”)\\\n",
    "Marital status (e.g. “married”, “single”, “divorced”)\n",
    "\n",
    "There are two types of categorical variable, nominal and ordinal.\\\n",
    "A nominal variable has no intrinsic ordering to its categories. For example, gender is a categorical variable having two categories (male and female) with no intrinsic ordering to the categories.\\\n",
    "An ordinal variable has a clear ordering. For example, temperature as a variable with three orderly categories (low, medium and high). \n",
    "\n",
    "We use frequancy or proportion to describe these data. Hypothesis testing used for such kind of data are called ***non parametric test.***\n",
    "\n",
    "In statistics, there are two different types of Chi-Square tests:\n",
    "\n",
    "1. **The Chi-Square Goodness of Fit Test** – Used to determine whether or not a categorical variable follows a hypothesized distribution. \n",
    "\n",
    "    Example: A shop owner wants to know if an equal number of people come into a shop each day of the week, so he counts the number of people who come in each day during a random week.\n",
    "    \n",
    "    A die is suspected of being biased. To test this, you will roll the die 24 times and record the outcome of each roll.\n",
    "    \n",
    "\n",
    "2. **The Chi-Square Test of Independence** – Used to determine whether or not there is a significant association between two categorical variables.\n",
    "\n",
    "    Example: Researchers want to know if gender is associated with political party preference in a certain town so they survey 500 voters and record their gender and political party preference.\n",
    "    \n",
    "    \n",
    "\n",
    "    \n",
    "    \n",
    "<img src = \"chi.png\">\n",
    "\n",
    "The link to chi-square table is : https://people.richland.edu/james/lecture/m170/tbl-chi.html\n",
    "\n",
    "Or you can use Graphpad: https://www.graphpad.com/quickcalcs/pValue1/"
   ]
  },
  {
   "cell_type": "code",
   "execution_count": 152,
   "metadata": {},
   "outputs": [
    {
     "data": {
      "text/plain": [
       "2.8946178199909545"
      ]
     },
     "execution_count": 152,
     "metadata": {},
     "output_type": "execute_result"
    }
   ],
   "source": [
    "## Example of Chi-Square Goodness of Fit Test\n",
    "\n",
    "# For total population of 15000 people attemped to climb Mt. A, 33% of success rate is observed. A mountaineer compay, X,  found that\n",
    "# it observed 41 people climed Mt. A out of 100 attempts.\n",
    "\n",
    "# Hypothesis:\n",
    "# H0: success rate is 33%\n",
    "\n",
    "# Expected frequency: successful= 33, unsuccessful= 67\n",
    "# Observed frequency: successful= 41, unsuccessful = 59\n",
    "\n",
    "# Now calculate chi-sqaure\n",
    "f_o = [41, 59]\n",
    "f_e = [33,67]\n",
    "def chi_square(f_o, f_e):\n",
    "    chi = 0\n",
    "    for i in range(len(f_o)):\n",
    "        chi += (f_o[i] - f_e[i]) **2 / f_e[i]\n",
    "    return chi\n",
    "\n",
    "chi_square(f_o, f_e)\n",
    "# chi_square = 2.89, and df = 1 (if we know successful, can calculate unsuccessful)\n",
    "# using the link: https://www.graphpad.com/quickcalcs/pValue1/\n",
    "# or table: https://people.richland.edu/james/lecture/m170/tbl-chi.html\n",
    "# We get two-tailed p_value = 0.0891 \n",
    "# Which is not significant for 0.05 alpha level.\n",
    "\n",
    "\n"
   ]
  },
  {
   "cell_type": "markdown",
   "metadata": {},
   "source": [
    "## Example of Chi-Square Test of Independence\n",
    "<img src = \"chi2.png\">\n",
    "\n",
    "Here are two variables, 1.Survival rate, 2.Types of accomodation\\\n",
    "H0: Types of accomodation and survival rate are independent"
   ]
  },
  {
   "cell_type": "code",
   "execution_count": 153,
   "metadata": {},
   "outputs": [
    {
     "data": {
      "text/plain": [
       "[217.51742835011618, 361.4825716498838, 267.4825716498838, 444.5174283501162]"
      ]
     },
     "execution_count": 153,
     "metadata": {},
     "output_type": "execute_result"
    }
   ],
   "source": [
    "# Solution\n",
    "f_o = pd.DataFrame({\"cabin\": [299, 280], \"steerage\": [186, 526]})\n",
    "total_total = f_o.sum().sum()\n",
    "col_total = list(f_o.sum())\n",
    "row_total = list(f_o.sum(axis = 1))\n",
    "\n",
    "# Calculate expect3e in wame order (column total * rowtotal / total total)\n",
    "\n",
    "f_e = [i*j/total_total for i in col_total for j in row_total]\n",
    "f_e"
   ]
  },
  {
   "cell_type": "code",
   "execution_count": 154,
   "metadata": {},
   "outputs": [
    {
     "data": {
      "text/plain": [
       "[299, 280, 186, 526]"
      ]
     },
     "execution_count": 154,
     "metadata": {},
     "output_type": "execute_result"
    }
   ],
   "source": [
    "f_o = list(pd.melt(f_o)[\"value\"])\n",
    "f_o"
   ]
  },
  {
   "cell_type": "code",
   "execution_count": 155,
   "metadata": {},
   "outputs": [
    {
     "data": {
      "text/plain": [
       "88.6487963871521"
      ]
     },
     "execution_count": 155,
     "metadata": {},
     "output_type": "execute_result"
    }
   ],
   "source": [
    "# calculate chi_square\n",
    "chi_square(f_o,f_e)"
   ]
  },
  {
   "cell_type": "code",
   "execution_count": 156,
   "metadata": {},
   "outputs": [],
   "source": [
    "df = 1\n",
    "# Critical value of chi-square at df 1 and p = 0.05 is (from table)\n",
    "chi_critical = 3.841\n",
    "\n",
    "# Since chi_square is greater than chi_critical we reject null\n",
    "# We conclude that survival rate is dependent to accomodations"
   ]
  }
 ],
 "metadata": {
  "kernelspec": {
   "display_name": "Python 3",
   "language": "python",
   "name": "python3"
  },
  "language_info": {
   "codemirror_mode": {
    "name": "ipython",
    "version": 3
   },
   "file_extension": ".py",
   "mimetype": "text/x-python",
   "name": "python",
   "nbconvert_exporter": "python",
   "pygments_lexer": "ipython3",
   "version": "3.9.10"
  }
 },
 "nbformat": 4,
 "nbformat_minor": 4
}
